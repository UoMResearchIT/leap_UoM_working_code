{
 "cells": [
  {
   "cell_type": "code",
   "execution_count": 157,
   "metadata": {},
   "outputs": [],
   "source": [
    "import pydicom\n",
    "import numpy as np\n",
    "import glob\n",
    "from pathlib import Path\n",
    "import matplotlib.pylab as plt\n",
    "from PIL import Image\n",
    "from io import BytesIO\n",
    "\n",
    "from src import sqlite_functions\n",
    "from src import gen_hash\n"
   ]
  },
  {
   "cell_type": "code",
   "execution_count": 158,
   "metadata": {},
   "outputs": [
    {
     "name": "stdout",
     "output_type": "stream",
     "text": [
      "Trying to connect to ../Feb2024_Test_Extraction/dicom_processing/MRI_Segmentation-4_Participants_Data.sqlite3...\n",
      "\n",
      "Connected to ../Feb2024_Test_Extraction/dicom_processing/MRI_Segmentation-4_Participants_Data.sqlite3!\n",
      "SQLite Database Version is: [('3.44.2',)]\n",
      "\n"
     ]
    }
   ],
   "source": [
    "database = Path('../Feb2024_Test_Extraction/dicom_processing/MRI_Segmentation-4_Participants_Data.sqlite3')\n",
    "#database = Path('../Feb2024_Test_Extraction/dicom_processing/MRI_Segmentation-Selected_Daphne_Data.sqlite3')\n",
    "\n",
    "sqlite_connection = sqlite_functions.connect_to_database(database, timeout=30.0)"
   ]
  },
  {
   "cell_type": "code",
   "execution_count": 159,
   "metadata": {},
   "outputs": [],
   "source": [
    "cursor = sqlite_connection.cursor()\n",
    "version_query = \"select sqlite_version()\"\n",
    "cursor.execute(version_query)\n",
    "version_record = cursor.fetchall()"
   ]
  },
  {
   "cell_type": "code",
   "execution_count": 160,
   "metadata": {},
   "outputs": [],
   "source": [
    "def get_column_values(connection, table, column):\n",
    "    cursor = connection.cursor()\n",
    "    query = f\"SELECT {column} FROM {table}\"\n",
    "    cursor.execute(query)\n",
    "    column_values = cursor.fetchall()\n",
    "    return column_values\n",
    "\n",
    "def get_column_a_for_column_b(connection, table, column_a, column_b, value_b):\n",
    "    cursor = connection.cursor()\n",
    "    query = f\"SELECT {column_a} FROM {table} WHERE {column_b} = '{value_b}'\"\n",
    "    cursor.execute(query)\n",
    "    column_values = cursor.fetchall()\n",
    "    return column_values\n",
    "\n",
    "def get_column_a_for_column_b_and_column_c(connection, table, column_a, column_b, value_b, column_c, value_c):\n",
    "    cursor = connection.cursor()\n",
    "    query = f\"SELECT {column_a} FROM {table} WHERE {column_b} = '{value_b}' AND {column_c} = '{value_c}'\"\n",
    "    cursor.execute(query)\n",
    "    column_values = cursor.fetchall()\n",
    "    return column_values\n",
    "\n",
    "def convert_image_bytes_to_numpy(image_data, image_dims):\n",
    "    image_bytes = BytesIO(image_data)\n",
    "    image_np = np.load(image_bytes, allow_pickle=True).astype(np.uint8)\n",
    "    image_np = image_np.reshape(image_dims)\n",
    "    return image_np\n",
    "\n",
    "def convert_timeseries_bytes_to_numpy(timeseries_data):\n",
    "    timeseries_bytes = BytesIO(timeseries_data)\n",
    "    timeseries_np = np.load(timeseries_bytes, allow_pickle=True).astype(np.float32)\n",
    "    return timeseries_np\n",
    "\n",
    "def create_image_file(connection, table, patient_id, dataofexam, image_hash):\n",
    "    \"\"\"\n",
    "    Create an image file with the scan data for a given image_hash.\n",
    "    The file name will be a combination of the patient_id, dataofexam, and image_hash.\n",
    "    \"\"\"\n",
    "    cursor = connection.cursor()\n",
    "    query = f\"SELECT image, image_dims FROM {table} WHERE image_hash = '{image_hash}'\"\n",
    "    cursor.execute(query)\n",
    "    image_collection = cursor.fetchall()\n",
    "    image_data = image_collection[0][0]\n",
    "    image_dims = eval(image_collection[0][1])\n",
    "    image_np = convert_image_bytes_to_numpy(image_data, image_dims)\n",
    "    image = Image.fromarray(image_np)\n",
    "    image.save(f\"{patient_id}_{dataofexam}_{image_hash[:8]}.png\")\n",
    "\n",
    "def create_image_mask(image_np):\n",
    "    img_mask = np.ones(image_np.shape).astype(np.uint8)\n",
    "    img_mask[0:31, 0:600, :] = 0\n",
    "    return img_mask\n",
    "\n",
    "def plot_image_file(connection, table, image_hash):\n",
    "    \"\"\"\n",
    "    Create an image file with the scan data for a given image_hash.\n",
    "    The file name will be a combination of the patient_id, dataofexam, and image_hash.\n",
    "    \"\"\"\n",
    "    cursor = connection.cursor()\n",
    "    query = f\"SELECT image, image_dims FROM {table} WHERE image_hash = '{image_hash}'\"\n",
    "    cursor.execute(query)\n",
    "    image_collection = cursor.fetchall()\n",
    "    image_data = image_collection[0][0]\n",
    "    image_dims = eval(image_collection[0][1])\n",
    "    image_np = convert_image_bytes_to_numpy(image_data, image_dims)\n",
    "    img_mask = create_image_mask(image_np)\n",
    "    image_np = image_np * img_mask\n",
    "    image = Image.fromarray(image_np)\n",
    "    image.show()\n",
    "\n",
    "\n",
    "def extract_all_images_for_patient(connection, table, patient_id):\n",
    "    \"\"\"\n",
    "    Extract all images for a given patient_id.\n",
    "    \"\"\"\n",
    "    cursor = connection.cursor()\n",
    "    query = f\"SELECT image, image_dims, dateofexam, image_hash FROM {table} WHERE patient_id = '{patient_id}'\"\n",
    "    cursor.execute(query)\n",
    "    image_collection = cursor.fetchall()\n",
    "    for image_data, image_dims, dateofexam, image_hash in image_collection:\n",
    "        image_dims = eval(image_dims)\n",
    "        image_np = convert_image_bytes_to_numpy(image_data, image_dims)\n",
    "        image = Image.fromarray(image_np)\n",
    "        image.save(f\"example_data/{patient_id}/{patient_id}_{dateofexam}_{image_hash[:8]}.png\")\n",
    "\n",
    "def extract_and_mask_all_images_for_patient(connection, table, patient_id):\n",
    "    \"\"\"\n",
    "    Extract all images for a given patient_id.\n",
    "    \"\"\"\n",
    "    cursor = connection.cursor()\n",
    "    query = f\"SELECT image, image_dims, dateofexam, image_hash FROM {table} WHERE patient_id = '{patient_id}'\"\n",
    "    cursor.execute(query)\n",
    "    image_collection = cursor.fetchall()\n",
    "    for image_data, image_dims, dateofexam, image_hash in image_collection:\n",
    "        image_dims = eval(image_dims)\n",
    "        image_np = convert_image_bytes_to_numpy(image_data, image_dims)\n",
    "        img_mask = create_image_mask(image_np)\n",
    "        image_np = image_np * img_mask\n",
    "        image = Image.fromarray(image_np)\n",
    "        image.save(f\"{patient_id}_{dateofexam}_{image_hash[:8]}.png\")\n",
    "\n",
    "\n",
    "def clean_up_and_replace_images(connection, table):\n",
    "    \"\"\"\n",
    "    This will extract a list of all image hashes from the database and then pull each image in turn,\n",
    "    clean it (using the larger mask), and then replace it in the database.\n",
    "    \"\"\"\n",
    "    image_hashes = get_column_values(connection, table, 'image_hash')\n",
    "    for image_hash in image_hashes:\n",
    "        image_hash = image_hash[0]\n",
    "        cursor = connection.cursor()\n",
    "        query = f\"SELECT image, image_dims FROM {table} WHERE image_hash = '{image_hash}'\"\n",
    "        cursor.execute(query)\n",
    "        image_collection = cursor.fetchall()\n",
    "        image_data = image_collection[0][0]\n",
    "        image_dims = eval(image_collection[0][1])\n",
    "        image_bytes = BytesIO(image_data)\n",
    "        image_np = np.load(image_bytes, allow_pickle=True).astype(np.uint8)\n",
    "        image_np = image_np.reshape(image_dims)\n",
    "        img_mask = create_image_mask(image_np)\n",
    "        image_np = image_np * img_mask\n",
    "        image_bytes = BytesIO()\n",
    "        np.save(image_bytes, image_np)\n",
    "        image_bytes.seek(0)\n",
    "        image_data = image_bytes.getvalue()\n",
    "        query = f\"UPDATE {table} SET image = ? WHERE image_hash = '{image_hash}'\"\n",
    "        cursor.execute(query, [image_data])\n",
    "        connection.commit()\n",
    "\n",
    "\n",
    "def extract_numpy_data(connection, table, column, image_hash):\n",
    "    cursor = connection.cursor()\n",
    "    query = f\"SELECT {column} FROM {table} WHERE image_hash = '{image_hash}'\"\n",
    "    cursor.execute(query)\n",
    "    column_data = cursor.fetchall()\n",
    "    try:\n",
    "        column_np = convert_timeseries_bytes_to_numpy(column_data[0][0])\n",
    "    except:\n",
    "        column_np = None\n",
    "    return column_np\n",
    "\n",
    "def extract_and_save_signal_and_taxis(connection, table):\n",
    "    image_hashes = get_column_values(connection, table, 'image_hash')\n",
    "    for image_hash in image_hashes:\n",
    "        image_hash = image_hash[0]\n",
    "        signal_np = extract_numpy_data(connection, table, 'signal', image_hash)\n",
    "        taxis_np = extract_numpy_data(connection, table, 't_axis', image_hash)\n",
    "        query = f\"SELECT patient_id, dateofexam FROM {table} WHERE image_hash = '{image_hash}'\"\n",
    "        cursor = connection.cursor()\n",
    "        cursor.execute(query)\n",
    "        patient_id, dateofexam = cursor.fetchall()[0]\n",
    "        if signal_np is not None:\n",
    "            np.savetxt(f\"example_data/{patient_id}/signal_{patient_id}_{dateofexam}_{image_hash[:8]}.csv\", signal_np)\n",
    "        if taxis_np is not None:\n",
    "            np.savetxt(f\"example_data/{patient_id}/t_axis_{patient_id}_{dateofexam}_{image_hash[:8]}.csv\", taxis_np)\n"
   ]
  },
  {
   "cell_type": "code",
   "execution_count": 161,
   "metadata": {},
   "outputs": [],
   "source": [
    "image_hashes = get_column_a_for_column_b(sqlite_connection, table_name, 'image_hash', 'patient_id', 'DAPHNE-14')"
   ]
  },
  {
   "cell_type": "code",
   "execution_count": 162,
   "metadata": {},
   "outputs": [],
   "source": [
    "create_image_file(connection=sqlite_connection, table='images', patient_id='DAPHNE-14', dataofexam='2024-02-01', image_hash=image_hashes[0][0])\n",
    "#extract_and_mask_all_images_for_patient(connection=sqlite_connection, table='images', patient_id='DAPHNE-43')"
   ]
  },
  {
   "cell_type": "code",
   "execution_count": 116,
   "metadata": {},
   "outputs": [],
   "source": [
    "extract_all_images_for_patient(connection=sqlite_connection, table='images', patient_id='DAPHNE-1')"
   ]
  },
  {
   "cell_type": "code",
   "execution_count": 137,
   "metadata": {},
   "outputs": [],
   "source": [
    "#plot_image_file(connection=sqlite_connection, table='images', image_hash=image_hashes[0][0])\n",
    "\n",
    "signal_test = extract_signal(sqlite_connection, 'images', image_hashes[4][0])"
   ]
  },
  {
   "cell_type": "code",
   "execution_count": 142,
   "metadata": {},
   "outputs": [],
   "source": [
    "signal_bytes = BytesIO(signal_test[0][0])\n",
    "signal_np = np.load(signal_bytes, allow_pickle=True).astype(np.float32)"
   ]
  },
  {
   "cell_type": "code",
   "execution_count": 156,
   "metadata": {},
   "outputs": [],
   "source": [
    "extract_and_save_signal_and_taxis(connection=sqlite_connection, table='images')"
   ]
  },
  {
   "cell_type": "code",
   "execution_count": 114,
   "metadata": {},
   "outputs": [],
   "source": [
    "clean_up_and_replace_images(connection=sqlite_connection, table='images')"
   ]
  },
  {
   "cell_type": "code",
   "execution_count": 155,
   "metadata": {},
   "outputs": [],
   "source": [
    "patients = get_column_values(sqlite_connection, 'images', 'patient_id')\n",
    "for patient in np.unique(patients):\n",
    "    if not Path(f\"example_data/{patient}\").exists():\n",
    "        Path(f\"example_data/{patient}\").mkdir()\n",
    "    extract_all_images_for_patient(connection=sqlite_connection, table='images', patient_id=patient)"
   ]
  },
  {
   "cell_type": "code",
   "execution_count": 9,
   "metadata": {},
   "outputs": [],
   "source": [
    "image_data = data_out[0][-2]"
   ]
  },
  {
   "cell_type": "code",
   "execution_count": 10,
   "metadata": {},
   "outputs": [
    {
     "data": {
      "text/plain": [
       "(852, 1136, 3)"
      ]
     },
     "execution_count": 10,
     "metadata": {},
     "output_type": "execute_result"
    }
   ],
   "source": [
    "np.shape(image_data)"
   ]
  },
  {
   "cell_type": "code",
   "execution_count": null,
   "metadata": {},
   "outputs": [],
   "source": [
    "plt.imshow(image_data[:,:,:])\n",
    "plt.axis('off')\n",
    "plt.show()\n",
    "\n",
    "#data_out[0][7]"
   ]
  },
  {
   "cell_type": "code",
   "execution_count": null,
   "metadata": {},
   "outputs": [],
   "source": [
    "data_out[0]"
   ]
  }
 ],
 "metadata": {
  "kernelspec": {
   "display_name": "tesseract-pip-py3.11-develop",
   "language": "python",
   "name": "python3"
  },
  "language_info": {
   "codemirror_mode": {
    "name": "ipython",
    "version": 3
   },
   "file_extension": ".py",
   "mimetype": "text/x-python",
   "name": "python",
   "nbconvert_exporter": "python",
   "pygments_lexer": "ipython3",
   "version": "3.11.0"
  }
 },
 "nbformat": 4,
 "nbformat_minor": 2
}
