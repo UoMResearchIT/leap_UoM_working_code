{
 "cells": [
  {
   "cell_type": "code",
   "execution_count": 1,
   "metadata": {},
   "outputs": [],
   "source": [
    "import pandas as pd"
   ]
  },
  {
   "cell_type": "code",
   "execution_count": 25,
   "metadata": {},
   "outputs": [],
   "source": [
    "\n",
    "mask_spreadsheet = '../Feb2024_Test_Extraction/LEAP-Dataset-Headers_Include-Exclude.xlsx'\n",
    "original_spreadsheet = '../Feb2024_Test_Extraction/delete_data/DAPHNE_DATA_WITH_LABELS_2024-02-21_1540.csv'"
   ]
  },
  {
   "cell_type": "code",
   "execution_count": 4,
   "metadata": {},
   "outputs": [],
   "source": [
    "mask_info = pd.read_excel(mask_spreadsheet)"
   ]
  },
  {
   "cell_type": "code",
   "execution_count": 22,
   "metadata": {},
   "outputs": [],
   "source": [
    "masked_set = mask_info[mask_info.iloc[:,1] == 'Include']\n",
    "masked_set = masked_set.iloc[:,0]"
   ]
  },
  {
   "cell_type": "code",
   "execution_count": 26,
   "metadata": {},
   "outputs": [],
   "source": [
    "masked_data = pd.read_csv(original_spreadsheet, usecols=masked_set)"
   ]
  },
  {
   "cell_type": "code",
   "execution_count": 28,
   "metadata": {},
   "outputs": [],
   "source": [
    "masked_data.to_csv('../Feb2024_Test_Extraction/DAPHNE_DATA_ANONYMISED_2024-02-21_1540.csv', index=False)"
   ]
  }
 ],
 "metadata": {
  "kernelspec": {
   "display_name": "tesseract-pip-py3.11-develop",
   "language": "python",
   "name": "python3"
  },
  "language_info": {
   "codemirror_mode": {
    "name": "ipython",
    "version": 3
   },
   "file_extension": ".py",
   "mimetype": "text/x-python",
   "name": "python",
   "nbconvert_exporter": "python",
   "pygments_lexer": "ipython3",
   "version": "3.11.0"
  }
 },
 "nbformat": 4,
 "nbformat_minor": 2
}
